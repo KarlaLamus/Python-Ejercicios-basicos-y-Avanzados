{
 "cells": [
  {
   "cell_type": "markdown",
   "id": "75f832f3",
   "metadata": {},
   "source": [
    "# Subimos el nivel!!!"
   ]
  },
  {
   "cell_type": "markdown",
   "id": "0876bb92",
   "metadata": {},
   "source": [
    "## Enhorabuena\n",
    "\n",
    "Si habéis llegado hasta aquí, sois competentes en programación en Python. Ahora toca convertirnos en expertos ;)\n",
    "\n",
    "Vamos a aprender funciones más avanzadas de Python y recursos fuertes que nos ofrece el lenguaje, y también programación orientada a objetos. Probablemente haya menos de ejercicio en este cuaderno y más de investigar que en el anterior"
   ]
  },
  {
   "cell_type": "markdown",
   "id": "71c50cd3",
   "metadata": {},
   "source": [
    "## Características más avanzadas de las funciones\n",
    "\n",
    "Cuando definimos una función, podemos poner que algunos de los parámetros sean opcionales y también que tengan valores por defecto (en caso de que el usuario no introduzca uno diferente, tomaría el valor por defecto. \n",
    "\n",
    "Además podemos pasarles parámetros desconocidos (investigad qué es \\*args y \\*\\*kwargs en una función de python).\n",
    "\n",
    "Por último, las últimas versiones de python nos permiten definir y forzar de qué tipo debe ser un parámetro que reciba una función (por ejemplo, si tenemos una función que te da los buenos días y recibe tu nombre por parámetro, podemos especificarle a la función que el parámetro \"nombre\" debe ser de tipo string, de forma que de error si se le pasa otra cosa. Además, podemos indicarle también el tipo de la salida que devuelve. Todo esto se considera buena práctica y es importante aprenderlo."
   ]
  },
  {
   "cell_type": "markdown",
   "id": "7bfa0b67",
   "metadata": {},
   "source": [
    "## Ejercicio 1: Funciones más avanzadas\n",
    "\n",
    "Vais a programar una función que recibe por parámetro el nombre de alguien, su edad, y el año en que estamos. Debéis especificarle a la función que el parámetro nombre tiene que ser un string, y que su valor por defecto sea \"desconocido\". El valor para la edad y el año debe estar especificado como int. La función devolverá un string saludando a la persona y diciendo su edad, por lo que debéis especificar en la función que la salida es un str"
   ]
  },
  {
   "cell_type": "markdown",
   "id": "b908ce08",
   "metadata": {},
   "source": [
    "**A continución realizaré 3 soluciones:**\n",
    "\n",
    "1. El codigo con unos datos fijos.\n",
    "2. codigo donde se puedan ingresar datos que varien.\n",
    "3. se añaden datos y si no es str o int se crea bucle hasta que se ingrese el valor valido."
   ]
  },
  {
   "cell_type": "code",
   "execution_count": 14,
   "id": "00f5c29d",
   "metadata": {},
   "outputs": [
    {
     "name": "stdout",
     "output_type": "stream",
     "text": [
      "¡Hola Juan! Tienes 25 años.\n"
     ]
    }
   ],
   "source": [
    "#El --> str sirve para indicar que de esto debe salir un string\n",
    "def saludar_persona(**kwargs) -> str:\n",
    "    nombre = kwargs.get('nombre')\n",
    "    edad = kwargs.get('edad')\n",
    "    año = kwargs.get('año')\n",
    "\n",
    "    #f-string se usa para crear una cadena, imprimirá lo que hay dentro de los \"\"\n",
    "    mensaje = f\"¡Hola {nombre}! Tienes {edad} años.\"\n",
    "    return mensaje\n",
    "\n",
    "# Ejemplo de uso\n",
    "saludo = saludar_persona(nombre=\"Juan\", edad=25, año=2023)\n",
    "print(saludo)"
   ]
  },
  {
   "cell_type": "code",
   "execution_count": 12,
   "id": "02509ae1",
   "metadata": {},
   "outputs": [
    {
     "name": "stdout",
     "output_type": "stream",
     "text": [
      "Por favor, ingresa tu nombre: karla\n",
      "Por favor, ingresa tu edad: 23\n",
      "Por favor, ingresa el año actual: 2023\n",
      "¡Hola karla! Tienes 23 años.\n"
     ]
    }
   ],
   "source": [
    "#El --> str sirve para indicar que de esto debe salir un string\n",
    "def saludar_persona(**kwargs) -> str:\n",
    "    nombre = kwargs.get('nombre', 'desconocido')\n",
    "    edad = kwargs.get('edad', 0)\n",
    "    año = kwargs.get('año', 0)\n",
    "   \n",
    "\n",
    "\n",
    "    if not isinstance(nombre, str):\n",
    "        raise ValueError(\"El nombre debe ser una cadena de texto (str).\")\n",
    "    \n",
    "    if not isinstance(edad, int):\n",
    "        raise ValueError(\"La edad debe ser un número entero (int).\")\n",
    "    \n",
    "    if not isinstance(año, int):\n",
    "        raise ValueError(\"El año debe ser un número entero (int).\")\n",
    "    \n",
    "    mensaje = f\"¡Hola {nombre}! Tienes {edad} años.\"\n",
    "    return mensaje\n",
    "\n",
    "# Solicitar los datos al usuario\n",
    "nombre = input(\"Por favor, ingresa tu nombre: \")\n",
    "edad = int(input(\"Por favor, ingresa tu edad: \"))\n",
    "año_actual = int(input(\"Por favor, ingresa el año actual: \"))\n",
    "\n",
    "# Llamar a la función y mostrar el resultado\n",
    "saludo = saludar_persona(nombre=nombre, edad=edad, año=año_actual)\n",
    "print(saludo)"
   ]
  },
  {
   "cell_type": "code",
   "execution_count": 9,
   "id": "16c83eed",
   "metadata": {},
   "outputs": [
    {
     "name": "stdout",
     "output_type": "stream",
     "text": [
      "Por favor, ingresa tu nombre: karla\n",
      "Por favor, ingresa tu edad: 23\n",
      "Por favor, ingresa el año actual: 2023\n",
      "¡Hola karla! Tienes 23 años.\n",
      "¡Hola karla! Estas en el año 2023.\n"
     ]
    }
   ],
   "source": [
    "#El arg y kwargs no se usan en este caso, usamos el kwargs.get\n",
    "#Se usan los arg de la palabra clave y se deermina que si no se pone nada se tomará como desconocido.\n",
    "#El --> str sirve para indicar que de esto debe salir un string\n",
    "\n",
    "def saludar_persona(*args, **kwargs) -> str:\n",
    "    nombre = kwargs.get('nombre', 'desconocido')\n",
    "    edad = kwargs.get('edad', 'desconocido')\n",
    "    año = kwargs.get('año', 'desconocido')\n",
    "\n",
    "#Se crean unos condicionales con if\n",
    "#El isinstance se usa para verificar si el objeto es del tipo que se especificó si no lo es devuelve False.\n",
    "    \n",
    "    if not isinstance(nombre, str):\n",
    "#raise se usa para lanzar una excepción y se le pone un mensaje según se quiera\n",
    "        raise ValueError(\"El nombre debe ser una cadena de texto (str).\")\n",
    "    \n",
    "    if not isinstance(edad, int):\n",
    "        raise ValueError(\"La edad debe ser un número entero (int).\")\n",
    "    \n",
    "    if not isinstance(año, int):\n",
    "        raise ValueError(\"El año debe ser un número entero (int).\")\n",
    "\n",
    "#Se crea la variable de mensaje que es la que va a imprimir al final de todo.\n",
    "#f-string se usa para crear una cadena, imprimirá lo que hay dentro de los \"\"\n",
    "#y lo que se ponga dentro de los {} que en nuestro caso son las palabras clave de arriba.\n",
    "    mensaje1 = f\"¡Hola {nombre}! Tienes {edad} años.\"\n",
    "    mensaje2 = f\"¡Hola {nombre}! Estas en el año {año}.\"\n",
    "    return mensaje1, mensaje2\n",
    "\n",
    "# Solicitar los datos al usuario (esto se hace con input)\n",
    "nombre = input(\"Por favor, ingresa tu nombre: \")\n",
    "\n",
    "\n",
    "#Se crea el bucle while, mientras no sean letras .isalpha() imprime invalido y vuelve a solicitar el nombre.\n",
    "while not nombre.isalpha():\n",
    "    print(\"Nombre inválido. Ingresa solo letras.\")\n",
    "    nombre = input(\"Por favor, ingresa tu nombre: \")\n",
    "\n",
    "#Se crea un bucle infinito.\n",
    "#el int se utiliza para convertir los datos que se ingresen en numero entero.\n",
    "#try-except sirve para indicar la excepción ValueError si el usuario ingresa un dato que no se convierta en numero entero.\n",
    "#break es por si no ocurre ninguna excepcion se rompe el bucle.\n",
    "\n",
    "while True:\n",
    "    try:\n",
    "        edad = int(input(\"Por favor, ingresa tu edad: \"))\n",
    "        break\n",
    "    except ValueError:\n",
    "        print(\"Edad inválida. Ingresa solo números enteros.\")\n",
    "\n",
    "while True:\n",
    "    try:\n",
    "        año_actual = int(input(\"Por favor, ingresa el año actual: \"))\n",
    "        break\n",
    "    except ValueError:\n",
    "        print(\"Año inválido. Ingresa solo números enteros.\")\n",
    "\n",
    "# Llamar a la función y mostrar el resultado\n",
    "# Arriba esta el return mensaje1, mensaje2, por esto devuelve ambos mensajes.\n",
    "\n",
    "mensaje1, mensaje2 = saludar_persona(nombre=nombre, edad=edad, año=año_actual)\n",
    "print(mensaje1)\n",
    "print(mensaje2)\n",
    "\n"
   ]
  },
  {
   "cell_type": "markdown",
   "id": "c4d97ee4",
   "metadata": {},
   "source": [
    "## Control de excepciones\n",
    "\n",
    "Nuestro código falla a veces, porque nos hemos equivocado o porque había una situación que no se nos había ocurrido. Pero hay otras veces que ni siquiera podemos evitarlo, por ejemplo, si el usuario mete un tipo de dato que no corresponde. En general, nuestro código va a fallar (invariablemente).\n",
    "\n",
    "Python nos da herramientas para controlar esos errores. Estoy hablándo de las cláusulas try/except/finally. Éstas nos permiten especificar a Python qué debe hacer si al ejecutar un código recibe un error. A veces querremos que el programa advierta de que algo malo ha pasado y el programa se detenga de manera controlada (por ejemplo, en vez de fallar y punto, que de un aviso de lo que ha pasado, cierre la conexión con una base de datos y entonces se detenga, o que guarde el progreso de algo que estamos haciendo antes de detenerse, etc). Habrá errores no graves que permitan que el programa siga ejecutándose, en cuyo caso puedo especificar que el programa lo deje pasar y continúe (por ejemplo si estoy procesando millones de datos en tiempo real, no quiero que si alguno de los datos que llega sea nulo el programa se detenga, sino que detecte el error, pase y siga analizando el resto de datos que no paran de llegar)\n",
    "\n",
    "Investigad como funciona esto del control de excepciones."
   ]
  },
  {
   "cell_type": "markdown",
   "id": "c53b8f50",
   "metadata": {},
   "source": [
    "## Ejercicio 2: Control de excepciones\n",
    "\n",
    "Programad una función que reciba dos números por parámetro, divida el primero por el segundo y devuelva el resultado. Después pedid al usuario input de dos números.\n",
    "\n",
    "El programa puede fallar en varios puntos:\n",
    "\n",
    "- El usuario puede introducir un 0 en el dividendo (DivisionByZeroError)\n",
    "- El usuario puede introducir algo que no sea un número\n",
    "\n",
    "Puede que incluso haya algo más que no se me haya ocurrido. Programad un control de excepciones para que si ocurre algo que no debería pasar, el programa imprima un mensaje avisando de qué ha pasado"
   ]
  },
  {
   "cell_type": "code",
   "execution_count": 16,
   "id": "a37b5e3a",
   "metadata": {},
   "outputs": [
    {
     "name": "stdout",
     "output_type": "stream",
     "text": [
      "Ingresa el dividendo: 0\n",
      "Ingresa el divisor: 0\n",
      "Error: Error: No se puede dividir entre cero.\n"
     ]
    }
   ],
   "source": [
    "#Se define la función\n",
    "def dividir_numeros(dividendo, divisor):\n",
    "    \n",
    "#try-except sirve para indicar la excepción TypeError y ZeroDivisionError \n",
    "#si el usuario ingresa un divisor 0 o si no es numero lo que ingresaron.\n",
    "#raise se usa para lanzar una excepción y se le pone un mensaje según se quiera\n",
    "\n",
    "    try:\n",
    "        resultado = dividendo / divisor\n",
    "        return resultado\n",
    "    except ZeroDivisionError: #ZeroDivisionError se produce de forma predeterminada\n",
    "                              #cuando se intenta dividir un numero entre 0.\n",
    "        raise ZeroDivisionError(\"Error: No se puede dividir entre cero.\")\n",
    "    except TypeError:   #Se utiliza para hacer una excepcion cuando los dos datos de la operacion\n",
    "                        #están involucrados \n",
    "        raise TypeError(\"Error: Los valores ingresados no son números.\")\n",
    "\n",
    "# Solicitar input al usuario de los dos numeros y float para que los convierta en flotantes.\n",
    "try: \n",
    "    dividendo = float(input(\"Ingresa el dividendo: \"))\n",
    "    divisor = float(input(\"Ingresa el divisor: \"))\n",
    "\n",
    "    resultado = dividir_numeros(dividendo, divisor)\n",
    "    print(\"El resultado de la división es: \", resultado)\n",
    "except ValueError:  #Este se ejecutará cuando el usuario ingrese un valor no númerico válido. \n",
    "    print(\"Error: Los valores ingresados no son números válidos.\")\n",
    "except Exception as error: #esta es para cualquier otra excepcion que se presente\n",
    "    print(\"Error:\", str(error))\n"
   ]
  },
  {
   "cell_type": "markdown",
   "id": "1bbae895",
   "metadata": {},
   "source": [
    "## List Comprehension\n",
    "\n",
    "Esto es algo muy de Python, es muy útil y es bastante eficiente. Cuando usamos un bucle for para transformar una lista, probablemente sea mejor utilizar esta opción (es más pythonico). Además admite condicionales :)"
   ]
  },
  {
   "cell_type": "markdown",
   "id": "75dd3ca7",
   "metadata": {},
   "source": [
    "## Ejercicio 3: List Comprehension\n",
    "\n",
    "A partir de la siguiente lista de números, utilizando list comprehension, transformarla en una sola línea en otra lista con los mismo números elevados al cuadrado, pero menores que 50"
   ]
  },
  {
   "cell_type": "code",
   "execution_count": 17,
   "id": "dc8dd5c6",
   "metadata": {},
   "outputs": [
    {
     "data": {
      "text/plain": [
       "[1, 4, 9, 16, 25, 36, 49]"
      ]
     },
     "execution_count": 17,
     "metadata": {},
     "output_type": "execute_result"
    }
   ],
   "source": [
    "numeros = [1,2,3,4,5,6,7,8,9]\n",
    "numeros_cuadrados_menoresque50 = [num**2 for num in numeros if num**2 < 50]\n",
    "\n",
    "numeros_cuadrados_menoresque50 \n",
    "\n",
    "#Utilizamos list comprehension para crear una nueva lista (numeros_cuadrados_menoresque50) a partir de la lista original (numeros).\n",
    "#Iteramos sobre cada elemento num en numeros.\n",
    "#Elevamos al cuadrado cada número utilizando num**2.\n",
    "#Agregamos el número a la nueva lista solo si el resultado de elevarlo al cuadrado es menor que 50 (if num**2 < 50). "
   ]
  },
  {
   "cell_type": "markdown",
   "id": "19decbc6",
   "metadata": {},
   "source": [
    "## Funciones Lambda\n",
    "\n",
    "La función anónima. Igual que las list comprehension, nos ahorra código y nos evita errores. Se usa cuando necesitamos una función muy sencilla que vamos a usar poco. Es una función que se define al mismo momento de usarla."
   ]
  },
  {
   "cell_type": "markdown",
   "id": "59d960d1",
   "metadata": {},
   "source": [
    "## Ejercicio 4: Funciones Lambda\n",
    "\n",
    "Generar una función lambda en una variable llamada x que sume un parámetro a y un parámetro b. después usarla para sumar 14563 y 9870 e imprimir el resultado"
   ]
  },
  {
   "cell_type": "code",
   "execution_count": 19,
   "id": "2faca3a4",
   "metadata": {},
   "outputs": [
    {
     "name": "stdout",
     "output_type": "stream",
     "text": [
      "24433\n"
     ]
    }
   ],
   "source": [
    "x = lambda a, b: a + b\n",
    "\n",
    "resultado = x(14563, 9870)\n",
    "\n",
    "print(resultado)"
   ]
  },
  {
   "cell_type": "markdown",
   "id": "f307dfe7",
   "metadata": {},
   "source": [
    "## Generadores\n",
    "\n",
    "Nos permite programar una función que puede ser iterada con un bucle for. Como los valores se generan sobre la marcha según se van recorriendo, es muy eficiente en términos de memoria. Se declaran como una función normal, pero dentro tengo que escribir la lógica de generación y devolver los valores con la cláusula yield"
   ]
  },
  {
   "cell_type": "markdown",
   "id": "208afa39",
   "metadata": {},
   "source": [
    "## Ejercicio 5: Generadores\n",
    "\n",
    "Elaborar un generador de números del 0 al número que se le pase por parámetro. Recorrerlo con un bucle for para imprimir los números del 1 al 20"
   ]
  },
  {
   "cell_type": "code",
   "execution_count": 25,
   "id": "a1d7a08e",
   "metadata": {},
   "outputs": [
    {
     "name": "stdout",
     "output_type": "stream",
     "text": [
      "1\n",
      "2\n",
      "3\n",
      "4\n",
      "5\n",
      "6\n",
      "7\n",
      "8\n",
      "9\n",
      "10\n",
      "11\n",
      "12\n",
      "13\n",
      "14\n",
      "15\n",
      "16\n",
      "17\n",
      "18\n",
      "19\n",
      "20\n"
     ]
    }
   ],
   "source": [
    "# n es usada para decir que va a hacer un generador hasta el numero que se le pase\n",
    "# en este ejemplo ese numero va a ser 20.\n",
    "def generador_numeros(n):\n",
    "    for i in range (n):\n",
    "        yield i #el yield se usa para devolver el valor actual\n",
    "\n",
    "# Recorrer el generador con un bucle for e imprimir los números del 1 al 20\n",
    "# se pone 21 porque se va a imprimir hasta 20 ya que empieza desde 0\n",
    "for numero in generador_numeros(21):\n",
    "    #el if se usa para que imprima desde 1 y no desde 0 como se hace por defecto.\n",
    "    if numero > 0:\n",
    "        print(numero)\n"
   ]
  },
  {
   "cell_type": "markdown",
   "id": "59e0d877",
   "metadata": {},
   "source": [
    "## Función Map\n",
    "\n",
    "También existe para facilitarnos la vida. Si le pasamos un iterable y una función, aplicará esa función a cada elemento del iterable. Una sola línea, muy eficiente, muy útil."
   ]
  },
  {
   "cell_type": "markdown",
   "id": "fe073ba2",
   "metadata": {},
   "source": [
    "## Ejercicio 6: Map\n",
    "\n",
    "Os doy la siguiente función (es lambda, ya lo controláis jejeje), que me dice si un número es par o no. Aplicadla a la lista y que me devuelva una lista de True/False dependiendo de si son pares o no. Una sola línea con la función Map ;)\n",
    "\n",
    "PD: Probablemente tendréis que cambiar el tipo de lo que la función Map devuelve. Pelead con ello ;)"
   ]
  },
  {
   "cell_type": "code",
   "execution_count": 32,
   "id": "fe41a232",
   "metadata": {},
   "outputs": [
    {
     "name": "stdout",
     "output_type": "stream",
     "text": [
      "[True, False, False, False, True, False, False, False]\n"
     ]
    }
   ],
   "source": [
    "f = lambda x: x%2 == 0 #Esto sirve para sarve si el numero es par.\n",
    "lista_numeros = [4,23,157,693,2,1,17,13]\n",
    "\n",
    "\n",
    "pares_impares = map(f, lista_numeros)\n",
    "print(list(pares_impares))"
   ]
  },
  {
   "cell_type": "markdown",
   "id": "8d71e4b6",
   "metadata": {},
   "source": [
    "**Ahora vamos a mostrar la lista especificado que numero es par y diciendo si es falso o verdadero.**"
   ]
  },
  {
   "cell_type": "code",
   "execution_count": 35,
   "id": "67cf5d76",
   "metadata": {},
   "outputs": [
    {
     "name": "stdout",
     "output_type": "stream",
     "text": [
      "Número: 4 - Es par: True\n",
      "Número: 23 - Es par: False\n",
      "Número: 157 - Es par: False\n",
      "Número: 693 - Es par: False\n",
      "Número: 2 - Es par: True\n",
      "Número: 1 - Es par: False\n",
      "Número: 17 - Es par: False\n",
      "Número: 13 - Es par: False\n"
     ]
    }
   ],
   "source": [
    "f = lambda x: x%2 == 0 #Esto sirve para sarve si el numero es par.\n",
    "lista_numeros = [4,23,157,693,2,1,17,13]\n",
    "\n",
    "\n",
    "pares_impares = list(map(f, lista_numeros))\n",
    "\n",
    "#para imprimir los numeros y si es par o no:\n",
    "#zip se utiliza para combinar textos de varias listas.\n",
    "for numero, es_par in zip(lista_numeros, pares_impares):\n",
    "    \n",
    "#f se usa para crear una cadena, imprimirá lo que hay dentro de los \"\"\n",
    "#y lo que se ponga dentro de los {} que en nuestro caso son las palabras clave de arriba.\n",
    "   \n",
    "    print(f\"Número: {numero} - Es par: {es_par}\")"
   ]
  },
  {
   "cell_type": "markdown",
   "id": "b7f48cb0",
   "metadata": {},
   "source": [
    "## Decoradores\n",
    "\n",
    "Subimos el nivel. Esto es bastante complicado de entender, pero no os agobiéis, porque no es común que tengáis que programarlos vosotros. Sí que es común que tengáis que usarlos, pero usarlos es fácil. \n",
    "\n",
    "Un decorador es una función que amplía las funcionalidades de otra función. \n",
    "\n",
    "A la hora de programar, es una función que devuelve una función. Quedáos con que a alto nivel lo que hace es darle más funcionalidades a una función que podemos crear.\n",
    "\n",
    "Para decorar una función con un decorador que ya hemos creado o que importamos de una librería, usamos una @ justo antes de la función. Investigad todo este tema, pero no os agobiéis si os cuesta, es normal."
   ]
  },
  {
   "cell_type": "markdown",
   "id": "dec3e9ab",
   "metadata": {},
   "source": [
    "## Ejercicio 7: Decoradores\n",
    "\n",
    "Tenéis que programar un decorador que lo que haga sea imprimir 20 símbolos * antes de que se ejecute la función que decora, y otros 20 justo después. Después programad una función que reciba por parámetro un nombre propio e imprima un saludo a esa persona. Luego, otra que reciba por parámetro la edad de una persona y el año en que estamos, calcule el año de nacimiento y lo imprima informando. Decorad ambas funciones con el decorador y comprobad que funciona"
   ]
  },
  {
   "cell_type": "code",
   "execution_count": 65,
   "id": "0aec206c",
   "metadata": {},
   "outputs": [],
   "source": [
    "# En esta celda programad el decorador\n",
    "# \\n significa que das un salto de linea\n",
    "def decorador(funcion_original):\n",
    "    def wrapper_funcion(*args, **kwargs):\n",
    "        print(\"\\n\" + \"*\" * 20) #esto para imprimir 20 simbolos de * antes de la funcion\n",
    "        resultado = funcion_original(*args, **kwargs)\n",
    "        print(\"*\" * 20 + \"\\n\") #este imprime los * despues de llamar la funcion\n",
    "        return resultado\n",
    "\n",
    "    return wrapper_funcion\n",
    "        "
   ]
  },
  {
   "cell_type": "code",
   "execution_count": 68,
   "id": "4f8777ea",
   "metadata": {},
   "outputs": [],
   "source": [
    "# En esta otra, programad las dos funciones decoradas\n",
    "\n",
    "@decorador\n",
    "def saludo(nombre):\n",
    "    print(f\"¡Hola, {nombre}!\")\n",
    "\n",
    "@decorador\n",
    "def calcular_nacimiento(edad, año_actual):\n",
    "    año_nacimiento = año_actual - edad\n",
    "    print(f\"Naciste en el año: {año_nacimiento}\")"
   ]
  },
  {
   "cell_type": "code",
   "execution_count": 69,
   "id": "b6dcad4f",
   "metadata": {},
   "outputs": [
    {
     "name": "stdout",
     "output_type": "stream",
     "text": [
      "\n",
      "********************\n",
      "¡Hola, karla!\n",
      "********************\n",
      "\n",
      "\n",
      "********************\n",
      "Naciste en el año: 2000\n",
      "********************\n",
      "\n"
     ]
    }
   ],
   "source": [
    "# En esta, comprobad que funciona\n",
    "\n",
    "saludo(\"karla\")\n",
    "calcular_nacimiento(23, 2023)"
   ]
  },
  {
   "cell_type": "markdown",
   "id": "ea93eeb2",
   "metadata": {},
   "source": [
    "## Librerías y técnicas avanzadas que es conveniente tener en cuenta\n",
    "\n",
    "**logger** -> Es una librería que nos permite añadir trazabilidad a nuestros programas, importantísimo por buena praxis\n",
    "\n",
    "**Itertools** -> Es una librería que nos da herramientas muy eficientes relacionadas con iteradores\n",
    "\n",
    "**asyncIO** -> Es una librería que nos permite añadir a Python programación asíncrona, lo cual lo hace muy eficiente. Investigad que es eso de la asincronicidad en programación\n",
    "\n",
    "\n",
    "La asincronía en programación se refiere a un modelo de ejecución donde las tareas no se realizan de forma secuencial y bloqueante, sino de manera independiente y concurrente. En este enfoque, una tarea puede iniciar otra tarea antes de que la primera se haya completado por completo.\n",
    "\n",
    "La asincronía es especialmente útil cuando se trabaja con operaciones que pueden llevar tiempo, como la lectura o escritura de archivos, solicitudes de red, operaciones de entrada y salida (I/O) intensivas, entre otras. En lugar de esperar a que cada operación se complete antes de pasar a la siguiente, se pueden iniciar varias operaciones y continuar con otras tareas mientras se espera que las operaciones asincrónicas finalicen."
   ]
  },
  {
   "cell_type": "markdown",
   "id": "7ead70bc",
   "metadata": {},
   "source": [
    "## Ejercicio 8: Programación asíncrona\n",
    "\n",
    "Os doy una función. Esta función es lenta, debe esperar un proceso y bloquea la ejecución de una segunda función. Esa segunda función podría ir ejecutándose mientras la primera espera. Transformad estas funciones para que funcionen de manera asíncrona y resolver el problema.\n",
    "\n",
    "Esto de la programación asíncrona está pensado para programas normales, no para cuadernos. Para que nos funcione en el cuaderno habrá que hacer una pequeña trampa. Investigad ;)"
   ]
  },
  {
   "cell_type": "code",
   "execution_count": 11,
   "id": "79f8672d",
   "metadata": {},
   "outputs": [
    {
     "name": "stdout",
     "output_type": "stream",
     "text": [
      "Empezamos la tarea 1, más lenta!!\n",
      "Finalizada la tarea 1, lenta pero segura!\n",
      "Empezamos la tarea 2, la más veloz\n",
      "Finalizada la tarea 2, ni lo viste venir!\n",
      "--- 1.005335807800293 seconds ---\n"
     ]
    }
   ],
   "source": [
    "# No toqueis esta celda, dejadla como ejemplo para luego comparar que la otra es más rápida. Programad la solución\n",
    "# en la siguiente celda\n",
    "\n",
    "import asyncio\n",
    "import time\n",
    "\n",
    "start_time = time.time()\n",
    "\n",
    "def funcion_lenta():\n",
    "    print(\"Empezamos la tarea 1, más lenta!!\")\n",
    "    time.sleep(1)\n",
    "    print(\"Finalizada la tarea 1, lenta pero segura!\")\n",
    "    \n",
    "def funcion_que_espera():\n",
    "    print(\"Empezamos la tarea 2, la más veloz\")\n",
    "    print(\"Finalizada la tarea 2, ni lo viste venir!\")\n",
    "    \n",
    "funcion_lenta()\n",
    "funcion_que_espera()\n",
    "\n",
    "print(\"--- %s seconds ---\" % (time.time() - start_time))"
   ]
  },
  {
   "cell_type": "code",
   "execution_count": 12,
   "id": "7445505d",
   "metadata": {
    "scrolled": true
   },
   "outputs": [
    {
     "name": "stdout",
     "output_type": "stream",
     "text": [
      "Empezamos la tarea 1, más lenta!!\n",
      "Empezamos la tarea 2, la más veloz\n",
      "Finalizada la tarea 2, ni lo viste venir!\n",
      "Finalizada la tarea 1, lenta pero segura!\n",
      "--- 1.00288987159729 seconds ---\n"
     ]
    }
   ],
   "source": [
    "#Importamos las librerias\n",
    "\n",
    "import asyncio  #lo utilizamos para la programación asíncrona.\n",
    "import time #Este permite medir el tiempo de ejecución.\n",
    "import nest_asyncio #Va a permitir utilizar el asyncio en este entorno de jupyter.\n",
    "\n",
    "nest_asyncio.apply() #Habilitamos asyncio en el cuaderno.\n",
    "\n",
    "start_time = time.time() #Se crea la variable para registrar el tiempo de ejecución.\n",
    "                         #Esta linea registrará el tiempo actual antes de ejecutar el código.\n",
    "\n",
    "#Se definen las dos funciones asíncronas: \"funcion_lenta() y función_que_espera()\"\n",
    "#En Python, cuando definimos una función con la palabra clave async, indicamos \n",
    "#que esa función es una función asíncrona.\n",
    "async def funcion_lenta():\n",
    "    print(\"Empezamos la tarea 1, más lenta!!\")\n",
    "#suspende la ejecución de la función asíncrona durante un cierto período de tiempo, \n",
    "#sin bloquear el hilo principal de ejecución. Durante esa espera, el bucle de eventos \n",
    "# puede continuar ejecutando otras tareas.\n",
    "#EN RESUMEN ESTA LINEA HARÁ QUE LA FUNCIÓN SE PAUSE UN SEGUNDO,\n",
    "#LO QUE PERMITE QUE OTRAS TAREAS SE EJECUTEN MIENTRAS ESTA ESTA PAUSADA.\n",
    "    await asyncio.sleep(1)\n",
    "    print(\"Finalizada la tarea 1, lenta pero segura!\")\n",
    "\n",
    "async def funcion_que_espera():\n",
    "    print(\"Empezamos la tarea 2, la más veloz\")\n",
    "    await asyncio.sleep(0)  # Permitir cambio de contexto a otras tareas\n",
    "    print(\"Finalizada la tarea 2, ni lo viste venir!\")\n",
    "\n",
    "#Se define la función main para ejecuar las tareas asincrónicas.\n",
    "async def main():\n",
    "#Creamos estas tareas para decirle a asyncio que queremos ejecutar la funcion\n",
    "#de manera asíncrona.\n",
    "    task1 = asyncio.create_task(funcion_lenta())\n",
    "    task2 = asyncio.create_task(funcion_que_espera())\n",
    "#aqui añadimos los task1 y task2 que va a permitir ejecutar tareas en paralelo.\n",
    "    await asyncio.gather(task1, task2)\n",
    "\n",
    "#Se guarda en la variable event_loop los task1 y task2 que creamos antes.(guarda el bucle de eventos)\n",
    "event_loop = asyncio.get_event_loop()\n",
    "#utilizamos esa funcion para ejecutar la función main, darse cuenta\n",
    "#que al principio usamos la funcion de event_loop.\n",
    "event_loop.run_until_complete(main())\n",
    "\n",
    "#Se mide y se muestra el tiempo de ejecución.\n",
    "print(\"--- %s seconds ---\" % (time.time() - start_time))\n"
   ]
  },
  {
   "cell_type": "code",
   "execution_count": null,
   "id": "504e8733",
   "metadata": {},
   "outputs": [],
   "source": []
  }
 ],
 "metadata": {
  "kernelspec": {
   "display_name": "Python 3 (ipykernel)",
   "language": "python",
   "name": "python3"
  },
  "language_info": {
   "codemirror_mode": {
    "name": "ipython",
    "version": 3
   },
   "file_extension": ".py",
   "mimetype": "text/x-python",
   "name": "python",
   "nbconvert_exporter": "python",
   "pygments_lexer": "ipython3",
   "version": "3.10.9"
  }
 },
 "nbformat": 4,
 "nbformat_minor": 5
}
