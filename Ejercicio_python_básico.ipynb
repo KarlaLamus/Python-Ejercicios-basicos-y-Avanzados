{
  "cells": [
    {
      "cell_type": "markdown",
      "id": "d4e025a0",
      "metadata": {
        "id": "d4e025a0"
      },
      "source": [
        "# Aprendemos Python Básico!!"
      ]
    },
    {
      "cell_type": "markdown",
      "id": "99241057",
      "metadata": {
        "id": "99241057"
      },
      "source": [
        "## Bienvenidxs a Jupyter!!\n",
        "\n",
        "Dedicándonos a la ciencia de datos, este entorno que tenemos para programar será un lugar común bastante habitual (aunque no el único).\n",
        "\n",
        "Jupyter (**JU**lia, **PYT**hon, **R**) es un entorno de programación dedicado a esos lenguajes y pensado para análisis de datos. Nos permite programar en celdas, que se pueden ejecutar de forma independiente, en vez de todo el programa de una. Debajo de cada celda, podemos ver el resultado de la ejecución. Así mismo, cada celda puede ser de uno de los diferentes lenguajes (Julia, R o Python) siempre que tengamos el kernel correspondiente (la extensión) instalada, o puede ser de Markdown.\n",
        "\n",
        "Markdown es un lenguaje que sirve para anotaciones (es en lo que está escrito este texto :D). Funciona como HTML pero simplificado y es muy cómodo de usar. La idea es que estamos haciendo ciencia (de datos, concretamente) y este es nuestro cuaderno de campo. No sólo hacemos experimentos, sino que los anotamos. Es decir, antes de escribir el código para dibujar una gráfica, añado una celda de anotación anunciando qué voy a hacer y por qué, qué resultado espero o qué quiero comprobar o qué pienso que va a ocurrir. Después una celda con el código, que al ejecutarse me devolverá la gráfica, y después otra celda de Markdown comentando las conclusiones. Esa es la buena práctica, porque si no, otra persona que lea mi cuaderno no entenderá nada, o yo mismo si ya han pasado un par de semanas es habitual no recordar por qué lancé tal o cual código.\n",
        "\n",
        "Información sobre Markdown: https://markdown.es/"
      ]
    },
    {
      "cell_type": "markdown",
      "id": "00e56613",
      "metadata": {
        "id": "00e56613"
      },
      "source": [
        "## Ejercicio 1: Markdown\n",
        "\n",
        "Añadid una celda de código en Markdown con vuestro nombre como título, \"Ejercicios Python como subtítulo\", qué os motiva a aprender IA y una lista con las cosas que esperáis aprender"
      ]
    },
    {
      "cell_type": "markdown",
      "id": "cab01b11",
      "metadata": {
        "id": "cab01b11"
      },
      "source": [
        "__KARLA LAMUS OLIVEROS__\n",
        "\n",
        "Ejercicios Python"
      ]
    },
    {
      "cell_type": "markdown",
      "id": "bcf87888",
      "metadata": {
        "id": "bcf87888"
      },
      "source": [
        "## Variables y tipos\n",
        "\n",
        "Un programa no deja de ser un conjunto de instrucciones que reciben datos como entrada y los manipulan para dar otros datos como salida.\n",
        "\n",
        "Los datos son importantes. Un aspecto clave es que los datos de entrada no siempre los conocemos, o algunos parámetros de la ejecución de un programa pueden cambiar, es decir, son **variables**.\n",
        "\n",
        "Prácticamente cualquier lenguaje de programación nos permite definir datos con los que podemos operar pero son variables. Es más, es buena práctica nunca manejar el dato en sí, sino una variable en la que esté guardado y cuya definición sea clara (y muchas veces al comienzo del documento, como buena práctica, o en un archivo separado de variables).\n",
        "\n",
        "Para definir una variable, sencillamente escribimos un nombre y usamos el operador \"=\" para darle un valor.\n",
        "\n",
        "**Buenas prácticas:** por convención, el nombre debe empezar siempre por una letra (no número) y que ésta sea minúscula. El nombre tiene que ser lo más sencillo y descriptivo posible (si estoy trabajando con frutas, utilizar como nombre \"fruta\" en vez de \"var1\"). Los nombres deben ser lo más diferenciados posibles para no confundirlos (si tengo por un lado una furta individual y el total de frutas vendidas, en vez de llamarlo \"fruta\" y \"frutas\", llamarlo \"fruta\" y \"frutas_vendidas\". Por último, aunque en los ejemplos yo no lo he estado haciendo, es preferible que sean en inglés (\"fruit\", \"sold_fruits\")\n",
        "\n",
        "Así mismo, los datos pueden ser de diferentes tipos. El tipo del dato nos permitirá hacer unas cosas u otras con él"
      ]
    },
    {
      "cell_type": "markdown",
      "id": "bc41a365",
      "metadata": {
        "id": "bc41a365"
      },
      "source": [
        "## Ejercicio 2: Variables y tipos\n",
        "\n",
        "- Definir una variable de cada tipo posible (o más común) en Python (string, integer, float, list, tuple, dictionary, boolean)\n",
        "- Investigar qué es cada una, qué permite y qué no y qué posibles métodos podemos usar con ellas\n",
        "- Imprimir el tipo de cada variable definida y comprobar que es correcto\n",
        "- Ponerlo en común con la clase :)\n",
        "- Anotar lo que consideramos importante\n"
      ]
    },
    {
      "cell_type": "code",
      "execution_count": null,
      "id": "3bec2670",
      "metadata": {
        "id": "3bec2670",
        "outputId": "549267b9-986d-46c7-8b8e-f76c3bcd5c4e"
      },
      "outputs": [
        {
          "data": {
            "text/plain": [
              "str"
            ]
          },
          "execution_count": 54,
          "metadata": {},
          "output_type": "execute_result"
        }
      ],
      "source": [
        "# string se refiere a texto y se pone en comillas\n",
        "nombre = \"Karla\"\n",
        "type(nombre)"
      ]
    },
    {
      "cell_type": "code",
      "execution_count": null,
      "id": "8c8f31da",
      "metadata": {
        "id": "8c8f31da",
        "outputId": "c7cb6e29-4321-4cc4-df12-346c96d20de5"
      },
      "outputs": [
        {
          "data": {
            "text/plain": [
              "int"
            ]
          },
          "execution_count": 5,
          "metadata": {},
          "output_type": "execute_result"
        }
      ],
      "source": [
        "# int se refiere a numeros enteros\n",
        "edad = 23\n",
        "type(edad)"
      ]
    },
    {
      "cell_type": "code",
      "execution_count": null,
      "id": "c4ad9f1a",
      "metadata": {
        "id": "c4ad9f1a",
        "outputId": "3ca79b7c-7c0d-4f05-8be5-4bea274b1af6"
      },
      "outputs": [
        {
          "data": {
            "text/plain": [
              "float"
            ]
          },
          "execution_count": 6,
          "metadata": {},
          "output_type": "execute_result"
        }
      ],
      "source": [
        "# flotante quiere decir numero decimal\n",
        "altura = 1.65\n",
        "type(altura)"
      ]
    },
    {
      "cell_type": "code",
      "execution_count": null,
      "id": "74842a23",
      "metadata": {
        "id": "74842a23",
        "outputId": "dd855a7c-ef6f-40ea-9c2e-2bf4f49eafea"
      },
      "outputs": [
        {
          "data": {
            "text/plain": [
              "list"
            ]
          },
          "execution_count": 7,
          "metadata": {},
          "output_type": "execute_result"
        }
      ],
      "source": [
        "# la lista se indica con llaves y separado por comas\n",
        "hermanos = [1, 2, 3, 4, 5]\n",
        "type(hermanos)"
      ]
    },
    {
      "cell_type": "code",
      "execution_count": null,
      "id": "639d4f34",
      "metadata": {
        "id": "639d4f34"
      },
      "outputs": [],
      "source": [
        "# Boleano es un numero de si o no\n",
        "es_boleano = True\n",
        "type(es_boleano)"
      ]
    },
    {
      "cell_type": "code",
      "execution_count": null,
      "id": "701df088",
      "metadata": {
        "id": "701df088",
        "outputId": "8e4a16e6-f991-4ba0-b324-d159df5956ee"
      },
      "outputs": [
        {
          "data": {
            "text/plain": [
              "'hey'"
            ]
          },
          "execution_count": 1,
          "metadata": {},
          "output_type": "execute_result"
        }
      ],
      "source": [
        "# Las tuplas se definen por parentesis y se separan por comas\n",
        "es_tupla = (1, 2, \"hey\", \"darly\")\n",
        "es_tupla[2]"
      ]
    },
    {
      "cell_type": "code",
      "execution_count": null,
      "id": "e25d585d",
      "metadata": {
        "id": "e25d585d",
        "outputId": "da682cf0-c34a-4c52-8efc-290655ae2c50"
      },
      "outputs": [
        {
          "data": {
            "text/plain": [
              "dict"
            ]
          },
          "execution_count": 4,
          "metadata": {},
          "output_type": "execute_result"
        }
      ],
      "source": [
        "# Diccionario se refiere a darle un valor a cada elemento\n",
        "clase = {\n",
        "    \"Estudiante 1\" : \"Ximena\",\n",
        "    \"Estudiante 2\" : \"Perla\",\n",
        "    \"Estudiante 3\" : \"Carlos\"\n",
        "}\n",
        "type(clase)"
      ]
    },
    {
      "cell_type": "markdown",
      "id": "4084ad0b",
      "metadata": {
        "id": "4084ad0b"
      },
      "source": [
        "## Operadores\n",
        "\n",
        "Como seguramente habréis visto, una vez tenemos datos, podemos hacer operaciones con ellos (obviamente), puesto que necesitaremos transformarlos.\n",
        "\n",
        "Podemos clasificar los operadores en tres tipos, matemáticos, comparadores, lógicos, de identidad y de membresía.\n",
        "\n",
        "Algunos nos devolverán un dato transformado (y dependiendo del tipo de dato). Otros nos devolverán un booleano (True o False) y servirán para cosas diferentes."
      ]
    },
    {
      "cell_type": "markdown",
      "id": "7c79394f",
      "metadata": {
        "id": "7c79394f"
      },
      "source": [
        "## Ejercicio 3: Operadores\n",
        "\n",
        "Investigad la lista de operadores y listadlos. Pensad usos que podríais darle. Jugad con ellos (¿qué pasa si sumo strings? ¿Qué pasa si multiplico un string por un integer? ¿Qué pasa si divido por 0? ¿Puedo guardar el resultado de una operación en una variable e imprimirla?)\n",
        "\n",
        "Se trata de hacer ciencia, o sea que experimentad. Después, ponemos en común lo aprendido y lo anotamos"
      ]
    },
    {
      "cell_type": "markdown",
      "id": "6516a056",
      "metadata": {
        "id": "6516a056"
      },
      "source": [
        "En el ejercicio 3 pone que listeis los operadores\n",
        "Se me cruzó un cable, no hace falta que lo hagáis, son muchísimos\n",
        "\n",
        "Operadores aritméticos: Estos operadores se utilizan para realizar cálculos aritméticos y manipular números.\n",
        "+ (suma)\n",
        "- (resta)\n",
        "* (multiplicación)\n",
        "/ (división)\n",
        "// (división entera)\n",
        "% (módulo)\n",
        "** (exponenciación)\n",
        "\n",
        "\n",
        "\n",
        "**Operadores de asignación:** \n",
        "\n",
        "Estos operadores se utilizan para asignar valores a variables y actualizar su contenido de forma abreviada.\n",
        "\n",
        "-  = (asignación)\n",
        "-  += (suma y asignación)\n",
        "-  -= (resta y asignación)\n",
        "-  *= (multiplicación y asignación)\n",
        "-  /= (división y asignación)\n",
        "-  //= (división entera y asignación)\n",
        "-  %= (módulo y asignación)\n",
        "-  **= (exponenciación y asignación)\n",
        "\n",
        "\n",
        "\n",
        "**Operadores de comparación:**\n",
        "\n",
        "Estos operadores se utilizan para comparar valores y producir resultados booleanos (True o False).\n",
        "\n",
        "-  == (igual a)\n",
        "-  != (diferente de)\n",
        "-  < (menor que)\n",
        "-  > (mayor que)\n",
        "-  <= (menor o igual que)\n",
        "-  >= (mayor o igual que)\n",
        "\n",
        "\n",
        "**Operadores lógicos:**\n",
        "\n",
        "Estos operadores se utilizan para combinar expresiones lógicas y evaluar condiciones complejas.\n",
        "\n",
        "-  and (y lógico)\n",
        "-  or (o lógico)\n",
        "-  not (negación lógica)\n",
        "\n",
        "\n",
        "**Operadores de pertenencia:**\n",
        "\n",
        "Estos operadores se utilizan para verificar si un elemento está presente en una secuencia, como una lista o una cadena de texto.\n",
        "\n",
        "-  in (pertenece a)\n",
        "-  not in (no pertenece a)\n",
        "\n",
        "\n",
        "**Operadores de identidad:**\n",
        "\n",
        "Estos operadores se utilizan para comparar si dos objetos son el mismo objeto en la memoria.\n",
        "\n",
        "-  is (es el mismo objeto)\n",
        "-  is not (no es el mismo objeto)"
      ]
    },
    {
      "cell_type": "code",
      "execution_count": null,
      "id": "eb84d33c",
      "metadata": {
        "id": "eb84d33c",
        "outputId": "9163f57a-718c-4dad-9687-f1962d7a221d"
      },
      "outputs": [
        {
          "data": {
            "text/plain": [
              "'Hola a todos'"
            ]
          },
          "execution_count": 7,
          "metadata": {},
          "output_type": "execute_result"
        }
      ],
      "source": [
        "# SUMAR DOS STRINGS\n",
        "\n",
        "saludo = \"Hola\"\n",
        "saludo_personalizado = \"a todos\"\n",
        "\n",
        "resultado = saludo + \" \" + saludo_personalizado\n",
        "resultado"
      ]
    },
    {
      "cell_type": "code",
      "execution_count": null,
      "id": "6669bb17",
      "metadata": {
        "id": "6669bb17",
        "outputId": "ae3e51af-3885-40af-e31a-75cfce801c49"
      },
      "outputs": [
        {
          "data": {
            "text/plain": [
              "'byebyebye'"
            ]
          },
          "execution_count": 9,
          "metadata": {},
          "output_type": "execute_result"
        }
      ],
      "source": [
        "# MULTIPLICAR UN STRING\n",
        "\n",
        "texto = \"bye\"\n",
        "texto_repetido = texto * 3\n",
        "texto_repetido"
      ]
    },
    {
      "cell_type": "code",
      "execution_count": null,
      "id": "1f446893",
      "metadata": {
        "id": "1f446893",
        "outputId": "0ff11450-a68e-404f-c8b3-38ecfe448a24"
      },
      "outputs": [
        {
          "data": {
            "text/plain": [
              "3.0"
            ]
          },
          "execution_count": 10,
          "metadata": {},
          "output_type": "execute_result"
        }
      ],
      "source": [
        "# Intentas dividir\n",
        "\n",
        "resultado = 6/2\n",
        "resultado"
      ]
    },
    {
      "cell_type": "code",
      "execution_count": null,
      "id": "9d98123e",
      "metadata": {
        "id": "9d98123e",
        "outputId": "f96c7829-eb5d-4bc8-e897-7e0d99f7570d"
      },
      "outputs": [
        {
          "data": {
            "text/plain": [
              "3"
            ]
          },
          "execution_count": 11,
          "metadata": {},
          "output_type": "execute_result"
        }
      ],
      "source": [
        "# Intentas dividir pero que te de un INT\n",
        "\n",
        "resultado = 6//2\n",
        "resultado"
      ]
    },
    {
      "cell_type": "markdown",
      "id": "e5e4855e",
      "metadata": {
        "id": "e5e4855e"
      },
      "source": [
        "## Condicionales\n",
        "\n",
        "Probablemente, querremos que nuestro programa haga una cosa u otra en función de si una variable contiene un valor u otro. Esto es lo que le da juego a un programa y lo hace parecer inteligente (no sólo una calculadora).\n",
        "\n",
        "Por ejemplo, podemos tener un programa que todas las mañanas compruebe el stock de un almacén de azulejos. Si tengo en stock menos de un 20% del total, el programa puede hacer un pedido automáticamente. Pero si está por encima, no quiero que haga nada.\n",
        "\n",
        "Esto se puede complicar. Porque si es menos del 20% pero es un 0% es probable que haya un problema (en un día se están gastando más azulejos de los que da tiempo a reponer), entonces en ese caso especial puedo querer que el programa lance una alerta. Además si en dos días consecutivos el almacén no baja del mismo número de azulejos y además esos días no son fines de semana significa que no se está trabajando y eso es otro problema que requerirá de otra acción diferente.\n",
        "\n",
        "Estos temas pueden complicarse ad infinitum.\n",
        "\n",
        "Desde siempre en Python hemos contado con las cláusulas if/elif/else. Debéis investigar sobre ellas.\n",
        "\n",
        "En últimas versiones (desde 3.10), contamos con un switch case (que quizá os suene de otros lenguajes) con las cláusulas match/case, que es mucho más eficiente (algo clave cuando nos dedicamos a los datos). Investigad sobre ello también."
      ]
    },
    {
      "cell_type": "markdown",
      "id": "a555e1ef",
      "metadata": {
        "id": "a555e1ef"
      },
      "source": [
        "## Ejercicio 4: Condicionales\n",
        "\n",
        "Escribid el código de un programa para la puerta de un teatro que pregunte al usuario cuál es su edad. Si el usuario es menor de 10 años, no podrá entrar. Si es menor de 18, podrá entrar pero acompañado de un adulto. Si es mayor de 18 podrá entrar sin problema. El programa debe imprimir un mensaje diciendo si puede entrar o si tiene que ir acompañado.\n",
        "\n",
        "Por darle una vuelta más, podéis comprobar algunas cosas. Por ejemplo, no es razonable que una persona menor de 3 años rellene el formulario, así que será un error o alguien intentando engañar. Si es menos que 0, más de lo mismo. Tampoco parece razonable que lo rellene alguien mayor de 100 años, por ejemplo. ¿Qué pasa si el usuario introduce algo que no es un número? o con decimales.\n",
        "\n",
        "Al acabar, lo ponemos en común y anotamos lo que hemos aprendido."
      ]
    },
    {
      "cell_type": "code",
      "execution_count": null,
      "id": "c0d80dd3",
      "metadata": {
        "id": "c0d80dd3",
        "outputId": "7887016c-0c85-4068-e3bd-6e210d1afeb9"
      },
      "outputs": [
        {
          "name": "stdout",
          "output_type": "stream",
          "text": [
            "¿Cual es su edad?101\n",
            "Esta fuera del rango permitido\n"
          ]
        }
      ],
      "source": [
        "# Se pone int para que no exista conflicto por el string\n",
        "\n",
        "edad = int(input(\"¿Cual es su edad?\"))\n",
        "\n",
        "if edad < 3 or edad > 100:\n",
        "    print(\"Esta fuera del rango permitido\")\n",
        "elif edad < 10:\n",
        "    print(\"No puede entrar\")\n",
        "elif edad < 18 and edad > 10:\n",
        "    print(\"Puede entrar acompañado de un adulto\")\n",
        "else:\n",
        "    print(\"Puede entrar\")"
      ]
    },
    {
      "cell_type": "markdown",
      "id": "e4691d36",
      "metadata": {
        "id": "e4691d36"
      },
      "source": [
        "## Bucles\n",
        "\n",
        "Habitualmente necesitaremos ejecutar una misma tarea de manera repetida.\n",
        "\n",
        "Es importante entender que pueden darse dos situaciones:\n",
        "\n",
        "1. Necesito que una tarea se repita hasta que se cumpla una condición\n",
        "2. Necesito que una tarea se repita para cada elemento de una lista/tupla/diccionario/set\n",
        "\n",
        "En el primero de los casos, lo que necesito es un bucle while. Este evaluará una cláusula. Mientras esa cláusula se evalúe como True, el código seguirá repitiéndose.\n",
        "\n",
        "En el segundo, necesito un bucle for. Este bucle recorrerá el elemento que le pasemos y por cada vuelta guardará ese valor en una variable que puede ser manipulada dentro del propio bucle (es el más complicado de entender, pero el más común, así que detenéos el tiempo que sea necesario para entenderlo)"
      ]
    },
    {
      "cell_type": "markdown",
      "id": "ff2dd527",
      "metadata": {
        "id": "ff2dd527"
      },
      "source": [
        "## Ejercicio 5: Bucles\n",
        "\n",
        "Generad una lista de 10 números diferentes. Con un bucle, comprobad si el número es par o impar. Imprimid si es par o impar, y si es impar, multiplicadlo por dos para que sea par. Al final tiene que quedar una lista solo con números pares.\n",
        "\n",
        "Después cread una variable para la que su valor sea 0. Con un bucle, id añadiéndole 1 e imprimiendo el nuevo valor. El bucle debería parar cuando la variable valga 16"
      ]
    },
    {
      "cell_type": "code",
      "execution_count": null,
      "id": "3bdd0978",
      "metadata": {
        "id": "3bdd0978",
        "outputId": "f00c88c2-c6ae-4be9-fbb2-7e02725f552d"
      },
      "outputs": [
        {
          "name": "stdout",
          "output_type": "stream",
          "text": [
            "2\n",
            "4\n",
            "6\n",
            "8\n",
            "10\n"
          ]
        }
      ],
      "source": [
        "for i in range (1, 11):\n",
        "    if i % 2 == 0:\n",
        "# el % se usa para verificar que el numero es divisible en 2\n",
        "# range se usa para crear un rango de numeros del 1 al 10\n",
        "        print(i)"
      ]
    },
    {
      "cell_type": "code",
      "execution_count": null,
      "id": "4f16a2cb",
      "metadata": {
        "id": "4f16a2cb",
        "outputId": "01406d11-1e9a-40b0-80fe-cae5539930f8"
      },
      "outputs": [
        {
          "name": "stdout",
          "output_type": "stream",
          "text": [
            "1\n",
            "2\n",
            "3\n",
            "4\n",
            "5\n",
            "6\n",
            "7\n",
            "8\n",
            "9\n",
            "10\n",
            "11\n",
            "12\n",
            "13\n",
            "14\n",
            "15\n",
            "16\n"
          ]
        }
      ],
      "source": [
        "# Se crea la variable valor\n",
        "valor = 0\n",
        "while valor != 16:\n",
        "    valor += 1\n",
        "    print(valor)"
      ]
    },
    {
      "cell_type": "markdown",
      "id": "1b47d11f",
      "metadata": {
        "id": "1b47d11f"
      },
      "source": [
        "## Funciones\n",
        "\n",
        "A veces, os daréis cuenta de que en distintas partes del código necesitáis hacer las mismas acciones. Programar la misma acción las veces que sean necesarias es lento, poco eficiente, difícil de mantener y propenso a errores.\n",
        "\n",
        "Es mejor encapsular el código en algo que pueda ser reutilizado. Eso son las funciones. Puedo definir una función, indicarle qué datos debe recibir, manipular esos datos en su interior y devolverlos cuando acabe. Por buenas prácticas, cada función debe realizar una sola función (valga la redundancia). Si una sola función hace dos cosas, debería separarla en dos funciones. Es muy recomendable comentarlas utilizando lo que en python se llaman docstrings (investigad lo que es). El nombre de la función debe ser descriptiva de lo que la función hace (y no se puede empezar por mayúsculas ni por números, por convención). Son muy importantes para, por ejemplo, evitar líos de anidación de bucles o de condicionales."
      ]
    },
    {
      "cell_type": "markdown",
      "id": "d790e2d5",
      "metadata": {
        "id": "d790e2d5"
      },
      "source": [
        "## Ejercicio 6: Funciones\n",
        "\n",
        "Escribir una función que reciba por parámetro el nombre de una persona completo con apellidos, su edad y la fecha de hoy. LA función debe separar el nombre de los apellidos, calcular el año de nacimiento y devolver una lista del tipo: [nombre, apellidos, año de nacimiento]"
      ]
    },
    {
      "cell_type": "code",
      "execution_count": null,
      "id": "316fbd0c",
      "metadata": {
        "id": "316fbd0c",
        "outputId": "3248ab63-5753-47d8-cba4-77f611ed999e"
      },
      "outputs": [
        {
          "name": "stdout",
          "output_type": "stream",
          "text": [
            "Escribe tu nombrekarla lamus\n",
            "Escribe tu edad23\n"
          ]
        },
        {
          "data": {
            "text/plain": [
              "['karla', 'lamus', 2000]"
            ]
          },
          "execution_count": 58,
          "metadata": {},
          "output_type": "execute_result"
        }
      ],
      "source": [
        "from datetime import datetime\n",
        "\n",
        "def informacion_detallada(nombre_completo, edad):\n",
        "    \n",
        "    #separar el nombre completo\n",
        "    nombre, apellidos = nombre_completo.split()\n",
        "    \n",
        "\n",
        "    # Calcular el año de nacimiento\n",
        "    fecha_actual = datetime.now()\n",
        "    # Tomamos solo el año de year y restamos la edad\n",
        "    año_nacimiento = fecha_actual.year - edad\n",
        "    \n",
        "    # Crear a lista\n",
        "    informacion_persona = [nombre, apellidos, año_nacimiento]\n",
        "\n",
        "    # Devolver la lista\n",
        "    return informacion_persona\n",
        "\n",
        "\n",
        "nombre_completo = input(\"Escribe tu nombre\")\n",
        "edad = int(input(\"Escribe tu edad\"))\n",
        "\n",
        "\n",
        "\n",
        "\n",
        "\n",
        "resultado = informacion_detallada(nombre_completo, edad)\n",
        "resultado"
      ]
    },
    {
      "cell_type": "code",
      "execution_count": null,
      "id": "8c54c9f9",
      "metadata": {
        "id": "8c54c9f9"
      },
      "outputs": [],
      "source": []
    }
  ],
  "metadata": {
    "accelerator": "GPU",
    "colab": {
      "gpuType": "T4",
      "provenance": []
    },
    "kernelspec": {
      "display_name": "Python 3 (ipykernel)",
      "language": "python",
      "name": "python3"
    },
    "language_info": {
      "codemirror_mode": {
        "name": "ipython",
        "version": 3
      },
      "file_extension": ".py",
      "mimetype": "text/x-python",
      "name": "python",
      "nbconvert_exporter": "python",
      "pygments_lexer": "ipython3",
      "version": "3.10.9"
    }
  },
  "nbformat": 4,
  "nbformat_minor": 5
}